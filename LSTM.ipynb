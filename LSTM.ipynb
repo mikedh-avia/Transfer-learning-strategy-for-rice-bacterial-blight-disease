{
 "cells": [
  {
   "cell_type": "code",
   "execution_count": 1,
   "metadata": {},
   "outputs": [],
   "source": [
    "%matplotlib inline\n",
    "import mxnet as mx\n",
    "from mxnet import autograd, gluon, init, nd\n",
    "from mxnet.gluon import data as gdata, loss as gloss, nn, utils as gutils\n",
    "import numpy as np\n",
    "import pandas as pd\n",
    "import d2lzh as d2l\n",
    "import matplotlib.pyplot as plt\n",
    "import time\n",
    "from mxnet.gluon import rnn, nn"
   ]
  },
  {
   "cell_type": "raw",
   "metadata": {},
   "source": [
    "dataset1=pd.read_csv('3v7-cal.csv',header=None)\n",
    "dataset2=pd.read_csv('3v7-cal.csv',header=None)\n",
    "dataset3=pd.read_csv('3v7-pre.csv',header=None)\n",
    "print(dataset1.shape)\n",
    "print(dataset2.shape)\n",
    "print(dataset3.shape)"
   ]
  },
  {
   "cell_type": "code",
   "execution_count": 2,
   "metadata": {},
   "outputs": [
    {
     "name": "stdout",
     "output_type": "stream",
     "text": [
      "(400, 7)\n",
      "(400, 7)\n",
      "(100, 7)\n"
     ]
    }
   ],
   "source": [
    "dataset1=pd.read_csv('LSTM迁移后2022年预测结果/calpre/8v2-cal1.csv',header=None)\n",
    "dataset2=pd.read_csv('LSTM迁移后2022年预测结果/calpre/8v2-cal1.csv',header=None)\n",
    "dataset3=pd.read_csv('LSTM迁移后2022年预测结果/calpre/8v2-pre1.csv',header=None)\n",
    "print(dataset1.shape)\n",
    "print(dataset2.shape)\n",
    "print(dataset3.shape)"
   ]
  },
  {
   "cell_type": "code",
   "execution_count": 3,
   "metadata": {},
   "outputs": [
    {
     "name": "stdout",
     "output_type": "stream",
     "text": [
      "(400, 5) (100, 5) (400,) (100,)\n"
     ]
    }
   ],
   "source": [
    "x_train=nd.array(dataset1.iloc[:,:5].values)\n",
    "y_train=nd.array(dataset1.iloc[:,5].values)# -3为SPAD，-2为含水率，-4为病害程度\n",
    "x_val=nd.array(dataset2.iloc[:,:5].values)\n",
    "y_val=nd.array(dataset2.iloc[:,5].values)\n",
    "x_test=nd.array(dataset3.iloc[:,:5].values)\n",
    "y_test=nd.array(dataset3.iloc[:,5].values)\n",
    "print(x_train.shape, x_test.shape, y_train.shape, y_test.shape)"
   ]
  },
  {
   "cell_type": "code",
   "execution_count": 4,
   "metadata": {},
   "outputs": [
    {
     "name": "stdout",
     "output_type": "stream",
     "text": [
      "(400, 5) (400,) \n",
      " (400, 5) (400,) \n",
      " (100, 5) (100,)\n"
     ]
    }
   ],
   "source": [
    "cal_features = x_train\n",
    "val_features = x_val\n",
    "test_features = x_test\n",
    "cal_label = y_train\n",
    "val_label = y_val\n",
    "test_label = y_test\n",
    "print(cal_features.shape,cal_label.shape,'\\n',\n",
    "       val_features.shape,val_label.shape,'\\n',\n",
    "       test_features.shape,test_label.shape\n",
    "      )"
   ]
  },
  {
   "cell_type": "code",
   "execution_count": 5,
   "metadata": {},
   "outputs": [
    {
     "name": "stdout",
     "output_type": "stream",
     "text": [
      "(400, 1, 5) (400,) \n",
      " (400, 1, 5) (400,) \n",
      " (100, 1, 5) (100,)\n"
     ]
    }
   ],
   "source": [
    "cal_feature = nd.reshape(cal_features, shape=(cal_features.shape[0],1,cal_features.shape[1]))\n",
    "val_feature = nd.reshape(val_features, shape=(val_features.shape[0],1,val_features.shape[1]))\n",
    "test_feature = nd.reshape(test_features, shape=(test_features.shape[0],1,test_features.shape[1]))\n",
    "\n",
    "print(cal_feature.shape,cal_label.shape,'\\n',\n",
    "      val_feature.shape,val_label.shape,'\\n',\n",
    "      test_feature.shape,test_label.shape\n",
    "     )"
   ]
  },
  {
   "cell_type": "code",
   "execution_count": 6,
   "metadata": {},
   "outputs": [],
   "source": [
    "def _get_batch(batch, ctx):\n",
    "    features, labels = batch\n",
    "    if labels.dtype != features.dtype:\n",
    "        labels = labels.astype(features.dtype)\n",
    "    return (gutils.split_and_load(features, ctx),\n",
    "            gutils.split_and_load(labels, ctx), features.shape[0])\n",
    "\n",
    "def train_CNN_regress(train_iter, test_iter, net, loss, trainer, ctx, num_epochs,learning_rate, end_con, end_con1):\n",
    "    \"\"\"Train and evaluate a model.\"\"\"\n",
    "    print('training on', ctx)\n",
    "    if isinstance(ctx, mx.Context):\n",
    "        ctx = [ctx]\n",
    "    for epoch in range(num_epochs):\n",
    "        train_l_sum, train_acc_sum, n, m, start = 0.0, 0.0, 0, 0, time.time()\n",
    "        for i, batch in enumerate(train_iter):\n",
    "            Xs, ys, batch_size = _get_batch(batch, ctx)\n",
    "            ls = []\n",
    "            with autograd.record():\n",
    "                y_hats = [net(X) for X in Xs]\n",
    "                ls = [loss(y_hat, y) for y_hat, y in zip(y_hats, ys)]\n",
    "            for l in ls:\n",
    "                l.backward()\n",
    "            trainer.step(batch_size)\n",
    "            train_l_sum += sum([l.sum().asscalar() for l in ls])\n",
    "            n += sum([l.size for l in ls])\n",
    "        loss_c=train_l_sum / n\n",
    "        y2preds = []\n",
    "        y2=[]\n",
    "        for X, y in test_iter:\n",
    "            y2preds.extend(net(X.as_in_context(ctx[0])).asnumpy())\n",
    "            y2.extend(y.asnumpy())\n",
    "            #break;\n",
    "        loss_p=np.sum(np.abs((np.array(y2)-np.array(y2preds).reshape(len(y2)))))/len(y2)\n",
    "        print('epoch %d, loss %.7f,loss %.4f, '\n",
    "              'time %.1f sec'\n",
    "              % (epoch + 1, train_l_sum / n,loss_p, \n",
    "                 time.time() - start))\n",
    "        if loss_c<end_con and loss_p<end_con1:break"
   ]
  },
  {
   "cell_type": "code",
   "execution_count": 7,
   "metadata": {},
   "outputs": [],
   "source": [
    "def train_net(net, learning_rate, num_epochs, end_con, end_con1):\n",
    "    net.collect_params().reset_ctx(ctx)\n",
    "    net.hybridize()\n",
    "    loss = gloss.L2Loss()\n",
    "    trainer = gluon.Trainer(net.collect_params(), 'adam', {\n",
    "        'learning_rate': learning_rate})\n",
    "    train_CNN_regress(train_iter, val_iter, net, loss, trainer, ctx, num_epochs, learning_rate, end_con, end_con1)"
   ]
  },
  {
   "cell_type": "code",
   "execution_count": 8,
   "metadata": {},
   "outputs": [
    {
     "name": "stdout",
     "output_type": "stream",
     "text": [
      "(10, 1, 5)\n",
      "\n",
      "[1.   0.   2.33 1.   0.   1.   0.33 0.33 0.67 0.  ]\n",
      "<NDArray 10 @cpu(0)>\n"
     ]
    }
   ],
   "source": [
    "\n",
    "batch_size=10 #\n",
    "train_iter = gdata.DataLoader(gdata.ArrayDataset(cal_feature, cal_label), batch_size, shuffle=True)\n",
    "val_iter  = gdata.DataLoader(gdata.ArrayDataset(val_feature, val_label), batch_size, shuffle=False)\n",
    "pre_iter  = gdata.DataLoader(gdata.ArrayDataset(test_feature, test_label), batch_size, shuffle=False)\n",
    "for X, y in train_iter:\n",
    "    print(X.shape)\n",
    "    print(y)\n",
    "    break\n",
    "\n",
    "ctx = mx.gpu()"
   ]
  },
  {
   "cell_type": "code",
   "execution_count": 9,
   "metadata": {},
   "outputs": [],
   "source": [
    "class Chse1D(nn.Block):\n",
    "    def __init__(self, kernel_size, **kwargs):\n",
    "        super(Chse1D, self).__init__(**kwargs)\n",
    "        self.weight = self.params.get('weight', shape=kernel_size)\n",
    "\n",
    "    def forward(self, x):\n",
    "        return x * nd.relu(self.weight.data())"
   ]
  },
  {
   "cell_type": "code",
   "execution_count": 10,
   "metadata": {},
   "outputs": [],
   "source": [
    "# loss = gloss.SoftmaxCrossEntropyLoss()\n",
    "ctx = mx.gpu(0)\n",
    "\n",
    "net = nn.Sequential()\n",
    "net.add(\n",
    "        Chse1D(5),\n",
    "        \n",
    "#         nn.Conv1D(16, kernel_size=3, strides=1),\n",
    "#         nn.ELU(),\n",
    "#         nn.MaxPool1D(pool_size=2, strides=2),\n",
    "#         nn.BatchNorm(),\n",
    "        \n",
    "#         nn.Conv1D(16, kernel_size=3, strides=1),\n",
    "#         nn.ELU(),\n",
    "#         nn.MaxPool1D(pool_size=2, strides=2),\n",
    "#         nn.BatchNorm(),\n",
    "        \n",
    "#         nn.Conv1D(16, kernel_size=3, strides=1),\n",
    "#         nn.ELU(),\n",
    "#         nn.MaxPool1D(pool_size=2, strides=2),\n",
    "#         nn.BatchNorm(),\n",
    "        \n",
    "        \n",
    "        rnn.LSTM(64, 1, layout=\"NTC\"),\n",
    "        nn.BatchNorm(axis=1),\n",
    "        nn.MaxPool1D(pool_size=2, strides=2),\n",
    "#         rnn.LSTM(64, 1, layout=\"NTC\"\n",
    "# #                  ,dropout=0.3\n",
    "#                 ),\n",
    "#         nn.BatchNorm(axis=1),\n",
    "        rnn.LSTM(32, 1, layout=\"NTC\"\n",
    "#                  ,dropout=0.3\n",
    "                ),\n",
    "        nn.BatchNorm(axis=1),\n",
    "#         nn.Dense(512, activation=\"relu\"),nn.BatchNorm(axis=1, center=True, scale=True),\n",
    "        nn.Dense(128, activation=\"relu\"), nn.BatchNorm(axis=1, center=True, scale=True),\n",
    "        nn.Dense(16, activation=\"relu\"), nn.BatchNorm(axis=1, center=True, scale=True),\n",
    "        nn.Dense(1))\n",
    "net.initialize(init.Normal(sigma=0.01), ctx=ctx,force_reinit=True)\n",
    "# net.initialize(force_reinit=True, ctx=ctx, init=init.Xavier())"
   ]
  },
  {
   "cell_type": "code",
   "execution_count": 11,
   "metadata": {},
   "outputs": [
    {
     "name": "stdout",
     "output_type": "stream",
     "text": [
      "Sequential(\n",
      "  (0): Chse1D(\n",
      "  \n",
      "  )\n",
      "  (1): LSTM(None -> 64, NTC)\n",
      "  (2): BatchNorm(axis=1, eps=1e-05, momentum=0.9, fix_gamma=False, use_global_stats=False, in_channels=None)\n",
      "  (3): MaxPool1D(size=(2,), stride=(2,), padding=(0,), ceil_mode=False, global_pool=False, pool_type=max, layout=NCW)\n",
      "  (4): LSTM(None -> 32, NTC)\n",
      "  (5): BatchNorm(axis=1, eps=1e-05, momentum=0.9, fix_gamma=False, use_global_stats=False, in_channels=None)\n",
      "  (6): Dense(None -> 128, Activation(relu))\n",
      "  (7): BatchNorm(axis=1, eps=1e-05, momentum=0.9, fix_gamma=False, use_global_stats=False, in_channels=None)\n",
      "  (8): Dense(None -> 16, Activation(relu))\n",
      "  (9): BatchNorm(axis=1, eps=1e-05, momentum=0.9, fix_gamma=False, use_global_stats=False, in_channels=None)\n",
      "  (10): Dense(None -> 1, linear)\n",
      ")\n"
     ]
    }
   ],
   "source": [
    "print(net[:])"
   ]
  },
  {
   "cell_type": "code",
   "execution_count": 12,
   "metadata": {},
   "outputs": [],
   "source": [
    "net[0].initialize(init.Constant(1),force_reinit=True, ctx=ctx)"
   ]
  },
  {
   "cell_type": "code",
   "execution_count": 13,
   "metadata": {},
   "outputs": [],
   "source": [
    "net.collect_params().reset_ctx(ctx)\n",
    "net.hybridize()"
   ]
  },
  {
   "cell_type": "raw",
   "metadata": {},
   "source": [
    "net[2:5].collect_params().load('2021modelLSTM_layer-1.params',ctx)"
   ]
  },
  {
   "cell_type": "raw",
   "metadata": {},
   "source": [
    "net.collect_params().save('2021modelLSTM_layer.params')"
   ]
  },
  {
   "cell_type": "code",
   "execution_count": 14,
   "metadata": {
    "scrolled": false
   },
   "outputs": [
    {
     "name": "stdout",
     "output_type": "stream",
     "text": [
      "training on gpu(0)\n",
      "epoch 1, loss 0.9949324,loss 1.0179, time 0.3 sec\n",
      "epoch 2, loss 0.9498100,loss 0.9776, time 0.3 sec\n",
      "epoch 3, loss 0.9041594,loss 1.0996, time 0.3 sec\n",
      "epoch 4, loss 0.8540308,loss 1.1086, time 0.3 sec\n",
      "epoch 5, loss 0.8191277,loss 0.8808, time 0.3 sec\n",
      "epoch 6, loss 0.7901851,loss 0.9311, time 0.3 sec\n",
      "epoch 7, loss 0.7733269,loss 0.7874, time 0.3 sec\n",
      "epoch 8, loss 0.7343912,loss 0.9610, time 0.3 sec\n",
      "epoch 9, loss 0.7078546,loss 1.1834, time 0.3 sec\n",
      "epoch 10, loss 0.7022517,loss 0.9836, time 0.3 sec\n",
      "epoch 11, loss 0.6814102,loss 1.4210, time 0.3 sec\n",
      "epoch 12, loss 0.6515780,loss 0.8967, time 0.3 sec\n",
      "epoch 13, loss 0.6435022,loss 1.0617, time 0.3 sec\n",
      "epoch 14, loss 0.6532681,loss 0.6429, time 0.3 sec\n",
      "epoch 15, loss 0.6544450,loss 0.9677, time 0.3 sec\n",
      "epoch 16, loss 0.5921013,loss 1.1679, time 0.3 sec\n",
      "epoch 17, loss 0.5839856,loss 1.2153, time 0.3 sec\n",
      "epoch 18, loss 0.5748233,loss 1.0433, time 0.3 sec\n",
      "epoch 19, loss 0.5691045,loss 1.2626, time 0.3 sec\n",
      "epoch 20, loss 0.5491651,loss 1.2337, time 0.3 sec\n",
      "epoch 21, loss 0.5498806,loss 0.6124, time 0.3 sec\n",
      "epoch 22, loss 0.5459230,loss 1.1282, time 0.3 sec\n",
      "epoch 23, loss 0.5564664,loss 0.6480, time 0.4 sec\n",
      "epoch 24, loss 0.4936240,loss 0.6318, time 0.4 sec\n",
      "epoch 25, loss 0.5243012,loss 0.9735, time 0.4 sec\n",
      "epoch 26, loss 0.4973398,loss 0.5420, time 0.4 sec\n"
     ]
    },
    {
     "data": {
      "text/plain": [
       "8.350335836410522"
      ]
     },
     "execution_count": 14,
     "metadata": {},
     "output_type": "execute_result"
    }
   ],
   "source": [
    "train_epochs=150\n",
    "train_lr=0.0001\n",
    "end_con=0.5\n",
    "end_con1=0.6\n",
    "t0=time.time()\n",
    "train_net(net, train_lr, train_epochs,end_con,end_con1)\n",
    "time.time()-t0"
   ]
  },
  {
   "cell_type": "code",
   "execution_count": 15,
   "metadata": {
    "scrolled": false
   },
   "outputs": [
    {
     "name": "stdout",
     "output_type": "stream",
     "text": [
      "training on gpu(0)\n",
      "epoch 1, loss 0.4862416,loss 0.9611, time 0.4 sec\n",
      "epoch 2, loss 0.4940532,loss 0.7519, time 0.4 sec\n",
      "epoch 3, loss 0.4978212,loss 0.9315, time 0.4 sec\n",
      "epoch 4, loss 0.4894538,loss 0.8083, time 0.4 sec\n",
      "epoch 5, loss 0.4684721,loss 0.8054, time 0.4 sec\n",
      "epoch 6, loss 0.4662810,loss 0.7531, time 0.4 sec\n",
      "epoch 7, loss 0.4750124,loss 0.8326, time 0.4 sec\n",
      "epoch 8, loss 0.4674459,loss 0.8844, time 0.4 sec\n",
      "epoch 9, loss 0.4627231,loss 0.7756, time 0.4 sec\n",
      "epoch 10, loss 0.4437623,loss 0.7655, time 0.4 sec\n",
      "epoch 11, loss 0.4548350,loss 0.8578, time 0.4 sec\n",
      "epoch 12, loss 0.4699524,loss 0.7528, time 0.4 sec\n",
      "epoch 13, loss 0.4822555,loss 0.9091, time 0.4 sec\n",
      "epoch 14, loss 0.4684857,loss 0.8030, time 0.4 sec\n",
      "epoch 15, loss 0.4675598,loss 0.8274, time 0.4 sec\n",
      "epoch 16, loss 0.4566008,loss 0.7910, time 0.4 sec\n",
      "epoch 17, loss 0.4438974,loss 0.7353, time 0.4 sec\n",
      "epoch 18, loss 0.4314081,loss 0.8353, time 0.4 sec\n",
      "epoch 19, loss 0.4561093,loss 0.8742, time 0.4 sec\n",
      "epoch 20, loss 0.4676233,loss 0.9129, time 0.4 sec\n",
      "epoch 21, loss 0.4528832,loss 0.8615, time 0.4 sec\n",
      "epoch 22, loss 0.4549420,loss 0.7763, time 0.4 sec\n",
      "epoch 23, loss 0.4545914,loss 0.7606, time 0.4 sec\n",
      "epoch 24, loss 0.4370423,loss 0.7164, time 0.4 sec\n",
      "epoch 25, loss 0.4587573,loss 0.8423, time 0.4 sec\n",
      "epoch 26, loss 0.4555247,loss 0.7889, time 0.4 sec\n",
      "epoch 27, loss 0.4532214,loss 0.7100, time 0.4 sec\n",
      "epoch 28, loss 0.4581076,loss 0.8414, time 0.4 sec\n",
      "epoch 29, loss 0.4494156,loss 0.8078, time 0.4 sec\n",
      "epoch 30, loss 0.4264494,loss 0.7415, time 0.4 sec\n",
      "epoch 31, loss 0.4410855,loss 0.7940, time 0.4 sec\n",
      "epoch 32, loss 0.4459019,loss 0.8856, time 0.4 sec\n",
      "epoch 33, loss 0.4231733,loss 0.8600, time 0.4 sec\n",
      "epoch 34, loss 0.4334140,loss 0.9019, time 0.4 sec\n",
      "epoch 35, loss 0.4662639,loss 0.8119, time 0.4 sec\n",
      "epoch 36, loss 0.4389496,loss 0.7116, time 0.4 sec\n",
      "epoch 37, loss 0.4363307,loss 0.6949, time 0.4 sec\n",
      "epoch 38, loss 0.4314463,loss 0.7162, time 0.4 sec\n",
      "epoch 39, loss 0.4293981,loss 0.8808, time 0.4 sec\n",
      "epoch 40, loss 0.4434787,loss 0.8422, time 0.4 sec\n",
      "epoch 41, loss 0.4307075,loss 0.7682, time 0.4 sec\n",
      "epoch 42, loss 0.4309907,loss 0.7595, time 0.4 sec\n",
      "epoch 43, loss 0.4119640,loss 0.7653, time 0.4 sec\n",
      "epoch 44, loss 0.4431155,loss 0.7404, time 0.4 sec\n",
      "epoch 45, loss 0.4157643,loss 0.8520, time 0.4 sec\n",
      "epoch 46, loss 0.4408353,loss 0.7617, time 0.4 sec\n",
      "epoch 47, loss 0.4363982,loss 0.7334, time 0.4 sec\n",
      "epoch 48, loss 0.4089048,loss 0.8153, time 0.5 sec\n",
      "epoch 49, loss 0.4270594,loss 0.7244, time 0.4 sec\n",
      "epoch 50, loss 0.4384811,loss 0.8837, time 0.4 sec\n",
      "epoch 51, loss 0.4033524,loss 0.6899, time 0.4 sec\n",
      "epoch 52, loss 0.4225627,loss 0.7613, time 0.4 sec\n",
      "epoch 53, loss 0.4155914,loss 0.8698, time 0.4 sec\n",
      "epoch 54, loss 0.4018330,loss 0.6717, time 0.4 sec\n",
      "epoch 55, loss 0.4198523,loss 0.8139, time 0.4 sec\n",
      "epoch 56, loss 0.4140783,loss 0.7729, time 0.4 sec\n",
      "epoch 57, loss 0.4093963,loss 0.7225, time 0.4 sec\n",
      "epoch 58, loss 0.4230304,loss 0.7115, time 0.4 sec\n",
      "epoch 59, loss 0.3946019,loss 0.6540, time 0.4 sec\n",
      "epoch 60, loss 0.4037083,loss 0.6354, time 0.4 sec\n",
      "epoch 61, loss 0.4016684,loss 0.7159, time 0.4 sec\n",
      "epoch 62, loss 0.4013650,loss 0.8360, time 0.4 sec\n",
      "epoch 63, loss 0.4143170,loss 0.5939, time 0.5 sec\n",
      "epoch 64, loss 0.4113667,loss 0.8166, time 0.4 sec\n",
      "epoch 65, loss 0.3915087,loss 0.8163, time 0.4 sec\n",
      "epoch 66, loss 0.3950619,loss 0.6769, time 0.4 sec\n",
      "epoch 67, loss 0.4028692,loss 0.7664, time 0.3 sec\n",
      "epoch 68, loss 0.3695539,loss 0.7272, time 0.4 sec\n",
      "epoch 69, loss 0.3947407,loss 0.7878, time 0.4 sec\n",
      "epoch 70, loss 0.3822155,loss 0.7370, time 0.4 sec\n",
      "epoch 71, loss 0.3979736,loss 0.6531, time 0.4 sec\n",
      "epoch 72, loss 0.4193839,loss 0.9580, time 0.5 sec\n",
      "epoch 73, loss 0.3827842,loss 0.7486, time 0.3 sec\n",
      "epoch 74, loss 0.3997118,loss 0.7636, time 0.3 sec\n",
      "epoch 75, loss 0.3919886,loss 0.8460, time 0.4 sec\n",
      "epoch 76, loss 0.3957391,loss 0.6912, time 0.4 sec\n",
      "epoch 77, loss 0.3854035,loss 0.5732, time 0.4 sec\n",
      "epoch 78, loss 0.3949630,loss 0.7997, time 0.4 sec\n",
      "epoch 79, loss 0.3833570,loss 0.7324, time 0.3 sec\n",
      "epoch 80, loss 0.3736558,loss 0.5731, time 0.3 sec\n",
      "epoch 81, loss 0.3879540,loss 0.7265, time 0.3 sec\n",
      "epoch 82, loss 0.4081261,loss 0.7179, time 0.4 sec\n",
      "epoch 83, loss 0.3772145,loss 0.7025, time 0.4 sec\n",
      "epoch 84, loss 0.3963198,loss 0.7180, time 0.4 sec\n",
      "epoch 85, loss 0.3745271,loss 0.8223, time 0.4 sec\n",
      "epoch 86, loss 0.3963984,loss 0.7263, time 0.4 sec\n",
      "epoch 87, loss 0.3761942,loss 0.6948, time 0.4 sec\n",
      "epoch 88, loss 0.3834461,loss 0.6636, time 0.4 sec\n",
      "epoch 89, loss 0.3658601,loss 0.7177, time 0.4 sec\n",
      "epoch 90, loss 0.3549991,loss 0.6688, time 0.4 sec\n",
      "epoch 91, loss 0.3631879,loss 0.6122, time 0.4 sec\n",
      "epoch 92, loss 0.3623720,loss 0.7929, time 0.4 sec\n",
      "epoch 93, loss 0.3795179,loss 0.8600, time 0.4 sec\n",
      "epoch 94, loss 0.3684403,loss 0.6219, time 0.4 sec\n",
      "epoch 95, loss 0.3547942,loss 0.9064, time 0.4 sec\n",
      "epoch 96, loss 0.3905371,loss 0.8238, time 0.4 sec\n",
      "epoch 97, loss 0.3682399,loss 0.7360, time 0.4 sec\n",
      "epoch 98, loss 0.3655557,loss 0.7557, time 0.4 sec\n",
      "epoch 99, loss 0.3492260,loss 0.6992, time 0.4 sec\n",
      "epoch 100, loss 0.3507802,loss 0.6927, time 0.4 sec\n",
      "epoch 101, loss 0.3510237,loss 0.6943, time 0.4 sec\n",
      "epoch 102, loss 0.3676990,loss 0.7862, time 0.4 sec\n",
      "epoch 103, loss 0.3699227,loss 0.6691, time 0.4 sec\n",
      "epoch 104, loss 0.3602566,loss 0.6699, time 0.4 sec\n",
      "epoch 105, loss 0.3570550,loss 0.6674, time 0.4 sec\n",
      "epoch 106, loss 0.3705605,loss 0.8622, time 0.4 sec\n",
      "epoch 107, loss 0.3390563,loss 0.6123, time 0.4 sec\n",
      "epoch 108, loss 0.3581426,loss 0.6573, time 0.4 sec\n",
      "epoch 109, loss 0.3538755,loss 0.7244, time 0.4 sec\n",
      "epoch 110, loss 0.3578139,loss 0.7214, time 0.4 sec\n",
      "epoch 111, loss 0.3456813,loss 0.5779, time 0.4 sec\n",
      "epoch 112, loss 0.3670545,loss 0.7565, time 0.4 sec\n",
      "epoch 113, loss 0.3433081,loss 0.6250, time 0.4 sec\n",
      "epoch 114, loss 0.3614850,loss 0.5799, time 0.4 sec\n",
      "epoch 115, loss 0.3423924,loss 0.6006, time 0.4 sec\n",
      "epoch 116, loss 0.3575410,loss 0.6881, time 0.4 sec\n",
      "epoch 117, loss 0.3623679,loss 0.6761, time 0.4 sec\n",
      "epoch 118, loss 0.3553135,loss 0.4948, time 0.4 sec\n"
     ]
    },
    {
     "data": {
      "text/plain": [
       "45.893009424209595"
      ]
     },
     "execution_count": 15,
     "metadata": {},
     "output_type": "execute_result"
    }
   ],
   "source": [
    "train_epochs=1500\n",
    "train_lr=0.00001\n",
    "end_con=0.45\n",
    "end_con1=0.55\n",
    "t0=time.time()\n",
    "train_net(net, train_lr, train_epochs,end_con,end_con1)\n",
    "time.time()-t0"
   ]
  },
  {
   "cell_type": "code",
   "execution_count": 16,
   "metadata": {
    "scrolled": true
   },
   "outputs": [
    {
     "name": "stdout",
     "output_type": "stream",
     "text": [
      "training on gpu(0)\n",
      "epoch 1, loss 0.3522669,loss 0.7988, time 0.4 sec\n",
      "epoch 2, loss 0.3620885,loss 0.5998, time 0.4 sec\n",
      "epoch 3, loss 0.3436761,loss 0.7075, time 0.4 sec\n",
      "epoch 4, loss 0.3388282,loss 0.7204, time 0.4 sec\n",
      "epoch 5, loss 0.3457178,loss 0.7662, time 0.4 sec\n",
      "epoch 6, loss 0.3245407,loss 0.8016, time 0.4 sec\n",
      "epoch 7, loss 0.3206491,loss 0.7786, time 0.4 sec\n",
      "epoch 8, loss 0.3450601,loss 0.7020, time 0.4 sec\n",
      "epoch 9, loss 0.3493464,loss 0.6100, time 0.4 sec\n",
      "epoch 10, loss 0.3432055,loss 0.7273, time 0.5 sec\n",
      "epoch 11, loss 0.3351570,loss 0.8097, time 0.4 sec\n",
      "epoch 12, loss 0.3254825,loss 0.6438, time 0.4 sec\n",
      "epoch 13, loss 0.3370732,loss 0.6412, time 0.4 sec\n",
      "epoch 14, loss 0.3218750,loss 0.8240, time 0.3 sec\n",
      "epoch 15, loss 0.3354937,loss 0.6782, time 0.3 sec\n",
      "epoch 16, loss 0.3226148,loss 0.6855, time 0.4 sec\n",
      "epoch 17, loss 0.3408984,loss 0.7865, time 0.4 sec\n",
      "epoch 18, loss 0.3116327,loss 0.6475, time 0.4 sec\n",
      "epoch 19, loss 0.3398367,loss 0.6108, time 0.4 sec\n",
      "epoch 20, loss 0.3162593,loss 0.5540, time 0.4 sec\n",
      "epoch 21, loss 0.3291119,loss 0.6493, time 0.4 sec\n",
      "epoch 22, loss 0.3225149,loss 0.6784, time 0.4 sec\n",
      "epoch 23, loss 0.3089046,loss 0.5973, time 0.4 sec\n",
      "epoch 24, loss 0.3303615,loss 0.4618, time 0.4 sec\n"
     ]
    },
    {
     "data": {
      "text/plain": [
       "9.377505540847778"
      ]
     },
     "execution_count": 16,
     "metadata": {},
     "output_type": "execute_result"
    }
   ],
   "source": [
    "train_epochs=150\n",
    "train_lr=0.00001\n",
    "end_con=0.4\n",
    "end_con1=0.5\n",
    "t0=time.time()\n",
    "train_net(net, train_lr, train_epochs,end_con,end_con1)\n",
    "time.time()-t0"
   ]
  },
  {
   "cell_type": "raw",
   "metadata": {},
   "source": [
    "ww=nd.relu(net[0].weight.data())\n",
    "zz = ww.asnumpy()\n",
    "plt.plot(zz)"
   ]
  },
  {
   "cell_type": "code",
   "execution_count": null,
   "metadata": {},
   "outputs": [],
   "source": [
    "# data = pd.DataFrame(zz)\n",
    "# data.to_csv('Selection_weight.csv',header=None,index=None)"
   ]
  },
  {
   "cell_type": "code",
   "execution_count": 17,
   "metadata": {},
   "outputs": [],
   "source": [
    "def ML_perf(yc,y_r,yp,y_rp,str_n):\n",
    "    plt.figure()\n",
    "    RMSEC=np.sqrt(np.mean((yc-y_r)**2))\n",
    "    R2C=1-(np.sum((yc-y_r)**2))/(np.sum((yc-np.mean(yc))**2))\n",
    "    RPDC=np.std(yc)/RMSEC\n",
    "\n",
    "    plt.scatter(yc,y_r,c='g',zorder=1,edgecolors=(0, 0, 0))\n",
    "    plt.plot([0,6],[0,6],'r')\n",
    "\n",
    "    plt.xlabel('Measured value (%)')\n",
    "    plt.ylabel('Predicted value (%)')\n",
    "    plt.title(str_n + ' (RMSEC: %.5f, R2C: %.5f, RPDC: %.5f)' % (RMSEC, R2C, RPDC))\n",
    "    plt.show()\n",
    "\n",
    "    plt.figure()\n",
    "    RMSEP=np.sqrt(np.mean((yp-y_rp)**2))\n",
    "    R2P=1-(np.sum((yp-y_rp)**2))/(np.sum((yp-np.mean(yp))**2))\n",
    "    RPDP=np.std(yp)/RMSEP\n",
    "\n",
    "    plt.scatter(yp,y_rp,zorder=1,edgecolors=(0, 0, 0))\n",
    "    plt.plot([0,6],[0,6],'r')\n",
    "\n",
    "    plt.xlabel('Measured value (%)')\n",
    "    plt.ylabel('Predicted value (%)')\n",
    "    plt.title(str_n + ' (RMSEP: %.5f, R2P: %.5f, RPDP: %.5f)' % (RMSEP, R2P, RPDP))\n",
    "    plt.show()"
   ]
  },
  {
   "cell_type": "code",
   "execution_count": 18,
   "metadata": {
    "scrolled": false
   },
   "outputs": [
    {
     "name": "stdout",
     "output_type": "stream",
     "text": [
      "CNN prediction for 400 C inputs in 0.28697 s\n",
      "CNN prediction for 400 C inputs in 0.06386 s\n"
     ]
    },
    {
     "data": {
      "image/png": "[encoded data removed]",
      "text/plain": [
       "<Figure size 432x288 with 1 Axes>"
      ]
     },
     "metadata": {
      "needs_background": "light"
     },
     "output_type": "display_data"
    },
    {
     "data": {
      "image/png": "[encoded data removed]",
      "text/plain": [
       "<Figure size 432x288 with 1 Axes>"
      ]
     },
     "metadata": {
      "needs_background": "light"
     },
     "output_type": "display_data"
    }
   ],
   "source": [
    "batch_size=5\n",
    "Xc = cal_feature.asnumpy()\n",
    "yc = cal_label.asnumpy()\n",
    "Xp = test_feature.asnumpy()\n",
    "yp = test_label.asnumpy()\n",
    "train_iter = gdata.DataLoader(gdata.ArrayDataset(cal_feature, cal_label), batch_size, shuffle=False)\n",
    "pre_iter  = gdata.DataLoader(gdata.ArrayDataset(test_feature, test_label), batch_size, shuffle=False)\n",
    "ypreds = []\n",
    "y0=[]\n",
    "t0 = time.time()\n",
    "for X, y in train_iter:\n",
    "    ypreds.extend(net(X.as_in_context(ctx)).asnumpy())\n",
    "    y0.extend(y.asnumpy())\n",
    "cnn_tc = time.time() - t0 \n",
    "print(\"CNN prediction for %d C inputs in %.5f s\" % (Xc.shape[0], cnn_tc))\n",
    "y2preds = []\n",
    "y2=[]\n",
    "t0 = time.time()\n",
    "for X, y in pre_iter:\n",
    "    y2preds.extend(net(X.as_in_context(ctx)).asnumpy())\n",
    "    y2.extend(y.asnumpy())\n",
    "cnn_tp = time.time() - t0 \n",
    "print(\"CNN prediction for %d C inputs in %.5f s\" % (Xc.shape[0], cnn_tp))\n",
    "\n",
    "ypreds=np.array(ypreds).reshape(yc.shape)\n",
    "y2preds=np.array(y2preds).reshape(yp.shape)\n",
    "\n",
    "ML_perf(yc,ypreds,yp,y2preds,'CNN')"
   ]
  },
  {
   "cell_type": "code",
   "execution_count": null,
   "metadata": {},
   "outputs": [],
   "source": [
    "F=np.array([yc,ypreds])\n",
    "data = pd.DataFrame(F)\n",
    "data.to_csv('2021model-transfer-9v1-cal-predictdata.csv',index=None,header=None)"
   ]
  },
  {
   "cell_type": "code",
   "execution_count": null,
   "metadata": {},
   "outputs": [],
   "source": [
    "F=np.array([yp,y2preds])\n",
    "data = pd.DataFrame(F)\n",
    "data.to_csv('2021model-transfer-9v1-pre-predictdata.csv',index=None,header=None)"
   ]
  },
  {
   "cell_type": "code",
   "execution_count": null,
   "metadata": {},
   "outputs": [],
   "source": []
  }
 ],
 "metadata": {
  "kernelspec": {
   "display_name": "Python 3",
   "language": "python",
   "name": "python3"
  },
  "language_info": {
   "codemirror_mode": {
    "name": "ipython",
    "version": 3
   },
   "file_extension": ".py",
   "mimetype": "text/x-python",
   "name": "python",
   "nbconvert_exporter": "python",
   "pygments_lexer": "ipython3",
   "version": "3.6.10"
  }
 },
 "nbformat": 4,
 "nbformat_minor": 4
}
